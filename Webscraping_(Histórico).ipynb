{
  "nbformat": 4,
  "nbformat_minor": 0,
  "metadata": {
    "colab": {
      "provenance": [],
      "authorship_tag": "ABX9TyN5m8ziNSdknwFn4+zey0d0",
      "include_colab_link": true
    },
    "kernelspec": {
      "name": "python3",
      "display_name": "Python 3"
    },
    "language_info": {
      "name": "python"
    }
  },
  "cells": [
    {
      "cell_type": "markdown",
      "metadata": {
        "id": "view-in-github",
        "colab_type": "text"
      },
      "source": [
        "<a href=\"https://colab.research.google.com/github/nicollasro/Echochamber/blob/main/Webscraping_(Hist%C3%B3rico).ipynb\" target=\"_parent\"><img src=\"https://colab.research.google.com/assets/colab-badge.svg\" alt=\"Open In Colab\"/></a>"
      ]
    },
    {
      "cell_type": "markdown",
      "source": [
        "**Etapa 1 - Importando Bibliotecas**"
      ],
      "metadata": {
        "id": "S6cEK7MvnDAZ"
      }
    },
    {
      "cell_type": "code",
      "source": [
        "# encoding: utf-8\n",
        "# -*- coding: cp1252 -*-.\n",
        "#!/usr/bin/python\n",
        "import tweepy\n",
        "import pandas as pd\n",
        "from time import time"
      ],
      "metadata": {
        "id": "xuxp5MuynNr_"
      },
      "execution_count": 30,
      "outputs": []
    },
    {
      "cell_type": "markdown",
      "source": [
        "**Etapa 2 - Função de Captura**"
      ],
      "metadata": {
        "id": "GObtVfqGnOoF"
      }
    },
    {
      "cell_type": "code",
      "source": [
        "def web_scrapping(account, file):\n",
        "\tdf = pd.DataFrame(columns=['id', 'created_at', 'source','user','full_text'])\n",
        "\tfor status in tweepy.Cursor(api.user_timeline, screen_name=account, include_rts=False, lang=\"pt\", tweet_mode=\"extended\").items(batch):\n",
        "\t\tstatus = status._json\n",
        "\t\t#print (status.keys())\n",
        "\t\tnew_entry = []\n",
        "\t\tnew_entry += [status['id'], status['created_at'],status['source'],status['user']['screen_name'], status['full_text']]\n",
        "\n",
        "\t\tsingle_tweet_df = pd.DataFrame([new_entry],columns=df.columns)\n",
        "\t\tdf = pd.concat([df, single_tweet_df])\n",
        "\t\t\n",
        "\tcsvFile = open(file, 'w' ,encoding='utf-8')\n",
        "\tdf.to_csv(csvFile, mode='w', columns=['id', 'created_at', 'source','user','full_text'], index=False, encoding=\"utf-8\")"
      ],
      "metadata": {
        "id": "5ECDwXX9nalp"
      },
      "execution_count": 48,
      "outputs": []
    },
    {
      "cell_type": "markdown",
      "source": [
        "**Etapa 3 - Função de Limites de Solicitações**"
      ],
      "metadata": {
        "id": "Ggv81ps5nfp4"
      }
    },
    {
      "cell_type": "code",
      "source": [
        "def check_limits(api):\n",
        "\tlimits=api.rate_limit_status()\n",
        "\tfor i in limits['resources'].keys():\n",
        "\t\tfor k in limits['resources'][i].keys(): \n",
        "\t\t\tif limits['resources'][i][k]['limit']!=limits['resources'][i][k]['remaining']:\n",
        "\t\t\t\treset_time=float(limits['resources'][i][k]['reset'])-time()\n",
        "\t\t\t\tremain=int(limits['resources'][i][k]['limit'])-int(limits['resources'][i][k]['remaining'])\n",
        "\t\t\t\tmax_limit=limits['resources'][i][k]['limit']\n",
        "\t\t\t\tprint('---- Status com Limite Modificado---------')\n",
        "\t\t\t\tprint (limits['resources'][i])\n",
        "\t\t\t\tprint(\"Falta \"+str(reset_time/60)+' min para o próximo reset')\n",
        "\t\t\t\tprint('Capacidade comprometida '+str(int(remain)/int(max_limit)))"
      ],
      "metadata": {
        "id": "QKquqEeWn2EG"
      },
      "execution_count": 32,
      "outputs": []
    },
    {
      "cell_type": "markdown",
      "source": [
        "**Etapa 4 - Inserindo Credenciais de Desenvolvedor**"
      ],
      "metadata": {
        "id": "2S0mvJ_rn8Re"
      }
    },
    {
      "cell_type": "code",
      "source": [
        "\tconsumer_key = \"jvqVFmtJH34Ft9laJygimyIo0\"\n",
        "\tconsumer_secret = \"URO3cDvgTY6HjFvnCMQ925ebwpoMp48lRzmiTYYubM5XPMQVjy\"\n",
        "\taccess_key= \"1173637793379160067-2qZT07Jdmk20jfv0Mc0WzTZHAt50UE\"\n",
        "\taccess_secret = \"745ND9hc5TPTMYD5EqObeZW9EC5nmYKHd0cK42fI7t2as\""
      ],
      "metadata": {
        "id": "J08FgErboExq"
      },
      "execution_count": 33,
      "outputs": []
    },
    {
      "cell_type": "markdown",
      "source": [
        "**Etapa 4.1 Autenticação e Instanciamento da Classe de Captura**"
      ],
      "metadata": {
        "id": "n-dhT6CNqAST"
      }
    },
    {
      "cell_type": "code",
      "source": [
        "auth = tweepy.OAuthHandler(consumer_key, consumer_secret)\n",
        "auth.set_access_token(access_key, access_secret)\n",
        "api = tweepy.API(auth)"
      ],
      "metadata": {
        "id": "Ct8w0cjaqM57"
      },
      "execution_count": 34,
      "outputs": []
    },
    {
      "cell_type": "markdown",
      "source": [
        "**Etapa  5 - Parâmetros de Captura**"
      ],
      "metadata": {
        "id": "6HGL8DI0oOc-"
      }
    },
    {
      "cell_type": "code",
      "source": [
        "\taccount = '@sbcbrasil'\n",
        "\tfile_path =\"sbc.csv\"\n",
        "\tbatch=5"
      ],
      "metadata": {
        "id": "I9bp2rqqoZns"
      },
      "execution_count": 40,
      "outputs": []
    },
    {
      "cell_type": "markdown",
      "source": [
        "**Etapa 6 - Iniciando Captura**"
      ],
      "metadata": {
        "id": "7eQbKnKxoepS"
      }
    },
    {
      "cell_type": "code",
      "source": [
        "web_scrapping(account, file_path)"
      ],
      "metadata": {
        "id": "-J661pu7om8Y"
      },
      "execution_count": 45,
      "outputs": []
    },
    {
      "cell_type": "markdown",
      "source": [
        "**Etapa 7 - Visualização do Dataset:** Tweets Capturados"
      ],
      "metadata": {
        "id": "rai0tDXZmaEA"
      }
    },
    {
      "cell_type": "code",
      "source": [
        "filepath = \"/content/sbc.csv\"\n",
        "df = pd.read_csv(filepath,header=0)\n",
        "print(df)"
      ],
      "metadata": {
        "colab": {
          "base_uri": "https://localhost:8080/"
        },
        "id": "C8hyYsqUma76",
        "outputId": "17855993-1346-45d9-8d38-85cdfd981ed9"
      },
      "execution_count": 46,
      "outputs": [
        {
          "output_type": "stream",
          "name": "stdout",
          "text": [
            "                       id                      created_at  \\\n",
            "0     1588274954381901824  Thu Nov 03 21:00:32 +0000 2022   \n",
            "1     1587507973542367232  Tue Nov 01 18:12:50 +0000 2022   \n",
            "2     1586070422633828353  Fri Oct 28 19:00:31 +0000 2022   \n",
            "3     1585345644406923270  Wed Oct 26 19:00:30 +0000 2022   \n",
            "4     1584541977743425537  Mon Oct 24 13:47:01 +0000 2022   \n",
            "...                   ...                             ...   \n",
            "1802          20498858446  Fri Aug 06 21:09:33 +0000 2010   \n",
            "1803          19786418561  Thu Jul 29 01:25:41 +0000 2010   \n",
            "1804          19732660225  Wed Jul 28 11:14:46 +0000 2010   \n",
            "1805          19698413169  Wed Jul 28 00:39:55 +0000 2010   \n",
            "1806          19674577827  Tue Jul 27 17:48:03 +0000 2010   \n",
            "\n",
            "                                                 source       user  \\\n",
            "0     <a href=\"https://www.facebook.com/socialmlabs/...  sbcbrasil   \n",
            "1     <a href=\"https://mobile.twitter.com\" rel=\"nofo...  sbcbrasil   \n",
            "2     <a href=\"https://www.facebook.com/socialmlabs/...  sbcbrasil   \n",
            "3     <a href=\"https://www.facebook.com/socialmlabs/...  sbcbrasil   \n",
            "4     <a href=\"https://www.facebook.com/socialmlabs/...  sbcbrasil   \n",
            "...                                                 ...        ...   \n",
            "1802  <a href=\"http://www.yoono.com\" rel=\"nofollow\">...  sbcbrasil   \n",
            "1803  <a href=\"http://www.yoono.com\" rel=\"nofollow\">...  sbcbrasil   \n",
            "1804  <a href=\"http://twitter.com\" rel=\"nofollow\">Tw...  sbcbrasil   \n",
            "1805  <a href=\"http://twitter.com\" rel=\"nofollow\">Tw...  sbcbrasil   \n",
            "1806  <a href=\"http://twitter.com\" rel=\"nofollow\">Tw...  sbcbrasil   \n",
            "\n",
            "                                              full_text  \n",
            "0     Novembro chegou repleto de eventos da SBC espe...  \n",
            "1     Novembro é o mês nacional de prevenção ao cânc...  \n",
            "2     🤩Vem aí o XI Congresso Brasileiro de Informáti...  \n",
            "3     Participe da II Escola Regional de Alto Desemp...  \n",
            "4     Acontece amanhã (25), às 10h, o 1º episódio da...  \n",
            "...                                                 ...  \n",
            "1802  Demand-Driven Associative Classification de Ad...  \n",
            "1803  30/07/2010 a 31/07/2010 ERAD-SP - I Escola Reg...  \n",
            "1804  Edital do CNPq baseado nos Grandes Desafios SB...  \n",
            "1805  SBC assina acordo de cooperação com a ACM. Sóc...  \n",
            "1806  SBC cria nova categoria \"Estudante de Graduaçã...  \n",
            "\n",
            "[1807 rows x 5 columns]\n"
          ]
        }
      ]
    },
    {
      "cell_type": "markdown",
      "source": [
        "Etapa 8 - Testando o Limite de Solicitações"
      ],
      "metadata": {
        "id": "6LCr7_vrpSBH"
      }
    },
    {
      "cell_type": "code",
      "source": [
        "check_limits(api)"
      ],
      "metadata": {
        "colab": {
          "base_uri": "https://localhost:8080/"
        },
        "id": "n0ic3FN0pa9L",
        "outputId": "bb091726-a40d-4d78-a7bf-ca9d5f8d8a59"
      },
      "execution_count": 47,
      "outputs": [
        {
          "output_type": "stream",
          "name": "stdout",
          "text": [
            "---- Status com Limite Modificado---------\n",
            "{'/statuses/retweeters/ids': {'limit': 75, 'remaining': 75, 'reset': 1667717739}, '/statuses/retweets_of_me': {'limit': 75, 'remaining': 75, 'reset': 1667717739}, '/statuses/home_timeline': {'limit': 15, 'remaining': 15, 'reset': 1667717739}, '/statuses/show/:id': {'limit': 900, 'remaining': 900, 'reset': 1667717739}, '/statuses/user_timeline': {'limit': 900, 'remaining': 799, 'reset': 1667717593}, '/statuses/friends': {'limit': 15, 'remaining': 15, 'reset': 1667717739}, '/statuses/retweets/:id': {'limit': 75, 'remaining': 75, 'reset': 1667717739}, '/statuses/mentions_timeline': {'limit': 75, 'remaining': 75, 'reset': 1667717739}, '/statuses/oembed': {'limit': 180, 'remaining': 180, 'reset': 1667717739}, '/statuses/lookup': {'limit': 900, 'remaining': 900, 'reset': 1667717739}}\n",
            "Falta 12.562180550893148 min para o próximo reset\n",
            "Capacidade comprometida 0.11222222222222222\n"
          ]
        }
      ]
    }
  ]
}